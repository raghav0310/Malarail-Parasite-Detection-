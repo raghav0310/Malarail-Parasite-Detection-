{
 "cells": [
  {
   "cell_type": "code",
   "execution_count": 1,
   "metadata": {},
   "outputs": [
    {
     "data": {
      "text/html": [
       "        <script type=\"text/javascript\">\n",
       "        window.PlotlyConfig = {MathJaxConfig: 'local'};\n",
       "        if (window.MathJax) {MathJax.Hub.Config({SVG: {font: \"STIX-Web\"}});}\n",
       "        if (typeof require !== 'undefined') {\n",
       "        require.undef(\"plotly\");\n",
       "        requirejs.config({\n",
       "            paths: {\n",
       "                'plotly': ['https://cdn.plot.ly/plotly-latest.min']\n",
       "            }\n",
       "        });\n",
       "        require(['plotly'], function(Plotly) {\n",
       "            window._Plotly = Plotly;\n",
       "        });\n",
       "        }\n",
       "        </script>\n",
       "        "
      ]
     },
     "metadata": {},
     "output_type": "display_data"
    },
    {
     "name": "stdout",
     "output_type": "stream",
     "text": [
      "['.ipynb_checkpoints', 'cell_images', 'Logistic Regression.ipynb', 'Parasitized', 'Uninfected', 'Untitled.ipynb', 'Untitled1.ipynb']\n"
     ]
    }
   ],
   "source": [
    "import numpy as np # linear algebra\n",
    "import pandas as pd # data processing, CSV file I/O (e.g. pd.read_csv)\n",
    "import cv2\n",
    "import matplotlib.pyplot as plt\n",
    "#import plotly.plotly as py\n",
    "import plotly.graph_objs as go\n",
    "from plotly.offline import init_notebook_mode, iplot # plotly offline mode\n",
    "init_notebook_mode(connected=True) \n",
    "# Input data files are available in the \"../input/\" directory.\n",
    "# For example, running this (by clicking run or pressing Shift+Enter) will list the files in the input directory\n",
    "\n",
    "import os\n",
    "print(os.listdir(\"C://Users//DPR//Desktop//New Researchers//GITHUB//cell_images\"))\n",
    "from sklearn.metrics import confusion_matrix, classification_report\n",
    "from sklearn.metrics import accuracy_score\n",
    "from sklearn.metrics import log_loss\n",
    "import seaborn as sns; sns.set()\n",
    "from sklearn.multiclass import OneVsRestClassifier\n",
    "from sklearn.ensemble import RandomForestClassifier\n",
    "from sklearn.linear_model import LogisticRegression\n",
    "from sklearn import svm\n",
    "from sklearn.tree import DecisionTreeClassifier\n",
    "from sklearn.neighbors import KNeighborsClassifier\n",
    "from sklearn.naive_bayes import GaussianNB"
   ]
  },
  {
   "cell_type": "code",
   "execution_count": 2,
   "metadata": {},
   "outputs": [],
   "source": [
    "x = list() #create x data\n",
    "y = list() # create y data\n",
    "for i in os.listdir(\"C://Users//DPR//Desktop//New Researchers//GITHUB//cell_images//Parasitized\"): #read all parasitized data \n",
    "    if \".png\" in i: #this if block for only read .png files\n",
    "        path = \"C://Users//DPR//Desktop//New Researchers//GITHUB//cell_images//Parasitized/\"+i # create path\n",
    "        img = plt.imread(path) # and read created path\n",
    "        img = cv2.resize(img,(40,40)) # resize image for lower processing power\n",
    "        x.append(img) # append image to x data\n",
    "        y.append(1) \n",
    "for i in os.listdir(\"C://Users//DPR//Desktop//New Researchers//GITHUB//cell_images//Uninfected\"):\n",
    "    if \".png\" in i:\n",
    "        path = \"C://Users//DPR//Desktop//New Researchers//GITHUB//cell_images//Uninfected/\"+i\n",
    "        img = plt.imread(path)\n",
    "        img = cv2.resize(img,(40,40))\n",
    "        x.append(img)\n",
    "        y.append(0)\n",
    "x = np.array(x)  \n",
    "x = x.reshape(x.shape[0],x.shape[1]*x.shape[2]*x.shape[3])\n",
    "x = x**8\n",
    "\n",
    "from sklearn.model_selection import train_test_split\n",
    "x_train,x_test,y_train,y_test = train_test_split(x,y,test_size = 0.2,random_state = 42)"
   ]
  },
  {
   "cell_type": "code",
   "execution_count": 6,
   "metadata": {},
   "outputs": [
    {
     "name": "stdout",
     "output_type": "stream",
     "text": [
      "RF  0.6867912546493695 0.6761611030478955\n"
     ]
    }
   ],
   "source": [
    "forest=RandomForestClassifier(n_estimators=100, max_depth=3,random_state=42)\n",
    "forest.fit(x_train,y_train)\n",
    "\n",
    "y_testp_forest=forest.predict(x_test)\n",
    "y_trainp_forest=forest.predict(x_train)\n",
    "y_testp_proba_forest=forest.predict_proba(x_test)\n",
    "y_trainp_proba_forest=forest.predict_proba(x_train)\n",
    "#percent accuracy\n",
    "test_accuracy=np.sum(np.array(y_test)==y_testp_forest)/len(y_testp_forest)\n",
    "train_accuracy=np.sum(np.array(y_train)==y_trainp_forest)/len(y_trainp_forest)\n",
    "print('RF ',train_accuracy,test_accuracy)"
   ]
  },
  {
   "cell_type": "code",
   "execution_count": 7,
   "metadata": {},
   "outputs": [],
   "source": [
    "cm=confusion_matrix(y_test,y_testp_forest)"
   ]
  },
  {
   "cell_type": "code",
   "execution_count": 8,
   "metadata": {},
   "outputs": [
    {
     "data": {
      "text/plain": [
       "array([[1911,  804],\n",
       "       [ 981, 1816]], dtype=int64)"
      ]
     },
     "execution_count": 8,
     "metadata": {},
     "output_type": "execute_result"
    }
   ],
   "source": [
    "cm"
   ]
  },
  {
   "cell_type": "code",
   "execution_count": 9,
   "metadata": {},
   "outputs": [
    {
     "name": "stdout",
     "output_type": "stream",
     "text": [
      "Accuracy: 67.6161%\n"
     ]
    }
   ],
   "source": [
    "acc=accuracy_score(y_test,y_testp_forest)\n",
    "print ('Accuracy: {:.4%}'.format(acc))"
   ]
  },
  {
   "cell_type": "code",
   "execution_count": 10,
   "metadata": {},
   "outputs": [
    {
     "name": "stdout",
     "output_type": "stream",
     "text": [
      "Log Loss: 0.604937\n"
     ]
    }
   ],
   "source": [
    "ll=log_loss(y_test,y_testp_proba_forest)\n",
    "print ('Log Loss: {:.6}'.format(ll))"
   ]
  },
  {
   "cell_type": "code",
   "execution_count": 11,
   "metadata": {},
   "outputs": [
    {
     "data": {
      "text/html": [
       "<div>\n",
       "<style scoped>\n",
       "    .dataframe tbody tr th:only-of-type {\n",
       "        vertical-align: middle;\n",
       "    }\n",
       "\n",
       "    .dataframe tbody tr th {\n",
       "        vertical-align: top;\n",
       "    }\n",
       "\n",
       "    .dataframe thead th {\n",
       "        text-align: right;\n",
       "    }\n",
       "</style>\n",
       "<table border=\"1\" class=\"dataframe\">\n",
       "  <thead>\n",
       "    <tr style=\"text-align: right;\">\n",
       "      <th></th>\n",
       "      <th>0</th>\n",
       "      <th>1</th>\n",
       "    </tr>\n",
       "  </thead>\n",
       "  <tbody>\n",
       "    <tr>\n",
       "      <th>0</th>\n",
       "      <td>1911</td>\n",
       "      <td>804</td>\n",
       "    </tr>\n",
       "    <tr>\n",
       "      <th>1</th>\n",
       "      <td>981</td>\n",
       "      <td>1816</td>\n",
       "    </tr>\n",
       "  </tbody>\n",
       "</table>\n",
       "</div>"
      ],
      "text/plain": [
       "      0     1\n",
       "0  1911   804\n",
       "1   981  1816"
      ]
     },
     "execution_count": 11,
     "metadata": {},
     "output_type": "execute_result"
    }
   ],
   "source": [
    "pd.DataFrame(cm)"
   ]
  },
  {
   "cell_type": "code",
   "execution_count": 12,
   "metadata": {},
   "outputs": [
    {
     "data": {
      "text/plain": [
       "Text(80.90000000000006, 0.5, 'Predicted')"
      ]
     },
     "execution_count": 12,
     "metadata": {},
     "output_type": "execute_result"
    },
    {
     "data": {
      "image/png": "[encoded data removed]",
      "text/plain": [
       "<Figure size 432x288 with 2 Axes>"
      ]
     },
     "metadata": {
      "needs_background": "light"
     },
     "output_type": "display_data"
    }
   ],
   "source": [
    "sns.heatmap(cm, square=True, annot=True,fmt='-d')\n",
    "plt.xlabel('Truth')\n",
    "plt.ylabel('Predicted')"
   ]
  },
  {
   "cell_type": "code",
   "execution_count": 13,
   "metadata": {},
   "outputs": [
    {
     "name": "stdout",
     "output_type": "stream",
     "text": [
      "              precision    recall  f1-score   support\n",
      "\n",
      "           0       0.66      0.70      0.68      2715\n",
      "           1       0.69      0.65      0.67      2797\n",
      "\n",
      "   micro avg       0.68      0.68      0.68      5512\n",
      "   macro avg       0.68      0.68      0.68      5512\n",
      "weighted avg       0.68      0.68      0.68      5512\n",
      "\n"
     ]
    }
   ],
   "source": [
    "print(classification_report(y_test,y_testp_forest))"
   ]
  }
 ],
 "metadata": {
  "kernelspec": {
   "display_name": "Python 3",
   "language": "python",
   "name": "python3"
  },
  "language_info": {
   "codemirror_mode": {
    "name": "ipython",
    "version": 3
   },
   "file_extension": ".py",
   "mimetype": "text/x-python",
   "name": "python",
   "nbconvert_exporter": "python",
   "pygments_lexer": "ipython3",
   "version": "3.7.3"
  }
 },
 "nbformat": 4,
 "nbformat_minor": 2
}
